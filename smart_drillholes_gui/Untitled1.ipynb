{
 "cells": [
  {
   "cell_type": "code",
   "execution_count": 5,
   "metadata": {
    "collapsed": false
   },
   "outputs": [
    {
     "name": "stdout",
     "output_type": "stream",
     "text": [
      "['', '/home/leudis/anaconda2/lib/python27.zip', '/home/leudis/anaconda2/lib/python2.7', '/home/leudis/anaconda2/lib/python2.7/plat-linux2', '/home/leudis/anaconda2/lib/python2.7/lib-tk', '/home/leudis/anaconda2/lib/python2.7/lib-old', '/home/leudis/anaconda2/lib/python2.7/lib-dynload', '/home/leudis/anaconda2/lib/python2.7/site-packages', '/home/leudis/anaconda2/lib/python2.7/site-packages/Sphinx-1.5.1-py2.7.egg', '/home/leudis/anaconda2/lib/python2.7/site-packages/setuptools-27.2.0-py2.7.egg', '/home/leudis/anaconda2/lib/python2.7/site-packages/IPython/extensions', '/home/leudis/.ipython', '/home/leudis/anaconda2/envs/projects-ev/lib/python2.7/site-packages']\n"
     ]
    },
    {
     "data": {
      "text/plain": [
       "['__builtins__',\n",
       " '__doc__',\n",
       " '__file__',\n",
       " '__name__',\n",
       " '__package__',\n",
       " '__path__',\n",
       " '__version__',\n",
       " 'debug',\n",
       " 'error',\n",
       " 'majorVersionId',\n",
       " 'proto',\n",
       " 'version',\n",
       " 'x']"
      ]
     },
     "execution_count": 5,
     "metadata": {},
     "output_type": "execute_result"
    }
   ],
   "source": [
    "from sys import path\n",
    "if not \"/home/leudis/anaconda2/envs/projects-ev/lib/python2.7/site-packages\" in path:\n",
    "    path.append(\"/home/leudis/anaconda2/envs/projects-ev/lib/python2.7/site-packages\")\n",
    "\n",
    "print path\n",
    "\n",
    "import pysnmp\n",
    "\n",
    "dir(pysnmp)"
   ]
  },
  {
   "cell_type": "code",
   "execution_count": null,
   "metadata": {
    "collapsed": true
   },
   "outputs": [],
   "source": []
  }
 ],
 "metadata": {
  "kernelspec": {
   "display_name": "Python 2",
   "language": "python",
   "name": "python2"
  },
  "language_info": {
   "codemirror_mode": {
    "name": "ipython",
    "version": 2
   },
   "file_extension": ".py",
   "mimetype": "text/x-python",
   "name": "python",
   "nbconvert_exporter": "python",
   "pygments_lexer": "ipython2",
   "version": "2.7.13"
  }
 },
 "nbformat": 4,
 "nbformat_minor": 2
}
