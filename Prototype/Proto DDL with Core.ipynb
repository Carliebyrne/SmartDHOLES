{
 "cells": [
  {
   "cell_type": "markdown",
   "metadata": {},
   "source": [
    "# Smart Drilhole: Prototype DDL with Core\n",
    "\n",
    "In this section we create a drillhole database using SQLAlchemy. The idea is to reuse the function to create the same database in SQLITE and MySQL. \n",
    "\n",
    "Restrictions: \n",
    "- use ``PRAGMA foreign_keys = ON;`` in SQLITE\n",
    "- use ``PRAGMA case_sensitive_like = True;`` in SQLITE\n",
    "- use InnoDB in MySQL"
   ]
  },
  {
   "cell_type": "code",
   "execution_count": 1,
   "metadata": {
    "collapsed": false
   },
   "outputs": [
    {
     "data": {
      "text/plain": [
       "'1.1.9'"
      ]
     },
     "execution_count": 1,
     "metadata": {},
     "output_type": "execute_result"
    }
   ],
   "source": [
    "import sqlalchemy\n",
    "sqlalchemy.__version__ "
   ]
  },
  {
   "cell_type": "code",
   "execution_count": 2,
   "metadata": {
    "collapsed": false
   },
   "outputs": [],
   "source": [
    "from sqlalchemy import (create_engine, \n",
    "                       Table, \n",
    "                       Column, \n",
    "                       Float,  \n",
    "                       String, \n",
    "                       MetaData, \n",
    "                       ForeignKey, \n",
    "                       CheckConstraint)\n",
    "\n",
    "\n",
    "def og_connect(con_string= 'sqlite:///test2.sqlite', overwrite = False, echo=True): \n",
    "    \n",
    "    print 'connection string:', con_string\n",
    "    print 'echo', echo\n",
    "    \n",
    "    \n",
    "    # get database type\n",
    "    dbtype=con_string[0:5]\n",
    "        \n",
    "    if dbtype=='sqlit':\n",
    "        \n",
    "        # TODO: check database is empty\n",
    "        \n",
    "        # Do a row connection and update some pragma\n",
    "        eng = create_engine(con_string, echo=echo)\n",
    "        with eng.connect() as con:\n",
    "            print con.execute('PRAGMA foreign_keys = ON;') \n",
    "            print con.execute('PRAGMA case_sensitive_like = True;')\n",
    "            \n",
    "    if dbtype=='postg':\n",
    "        eng = create_engine(con_string, echo=echo)\n",
    "    \n",
    "    if dbtype=='sqlite':\n",
    "        pass\n",
    "    \n",
    "    #create collar table\n",
    "    meta = MetaData()\n",
    "    collar = Table('collar', meta,\n",
    "                    Column('BHID', String, primary_key=True),\n",
    "                    Column('xcollar', Float, nullable=False),\n",
    "                    Column('ycollar', Float, nullable=False),\n",
    "                    Column('zcollar', Float, nullable=False),\n",
    "                    Column('LENGTH', Float, nullable=False),\n",
    "                    Column('Comments', String))\n",
    "    \n",
    "    survey = Table('survey', meta,\n",
    "                    Column('BHID', None, \n",
    "                           ForeignKey(column='collar.BHID', \n",
    "                             ondelete='CASCADE', \n",
    "                             onupdate='CASCADE',\n",
    "                             name = 'chk_bhid'),\n",
    "                           primary_key=True),\n",
    "                    Column('at', Float, nullable=False, primary_key=True),\n",
    "                    Column('az', Float, nullable=False),\n",
    "                    Column('dip', Float, nullable=False),\n",
    "                    Column('Comments', String))\n",
    "    \n",
    "    \n",
    "    return eng, meta\n",
    "\n",
    "def og_add_interval(eng, meta, table_name, cols={}):\n",
    "       \n",
    "    # create interval table       \n",
    "    interval = Table(table_name, meta,\n",
    "                    Column('BHID', None, \n",
    "                           ForeignKey(column='collar.BHID', \n",
    "                             ondelete='CASCADE', \n",
    "                             onupdate='CASCADE',\n",
    "                             name = 'chk_bhid'),\n",
    "                           primary_key=True),\n",
    "                    Column('FROM', Float, nullable=False, primary_key=True),\n",
    "                    Column('TO', Float, nullable=False),\n",
    "                    Column('Comments', String),\n",
    "                    CheckConstraint('\"TO\" > \"FROM\"', name='check_interv'))\n",
    "    \n",
    "    for col in cols:\n",
    "        if 'foreignkey' in cols[col]:\n",
    "            fk = ForeignKey (column= cols[col]['foreignkey']['column'],\n",
    "                             ondelete= cols[col]['foreignkey']['ondelete'],\n",
    "                             onupdate= cols[col]['foreignkey']['onupdate'])\n",
    "            tmpcol = Column(col, None, fk)\n",
    "        else:\n",
    "            tmpcol = Column(col, cols[col]['coltypes'], nullable=cols[col]['nullable'])\n",
    "        \n",
    "        interval.append_column(tmpcol)\n",
    "\n",
    "def og_references(eng, meta, table_name = 'assay_certificate', key = 'SampleID', cols={}):\n",
    "       \n",
    "    # create interval table       \n",
    "    interval = Table(table_name, meta,\n",
    "                    Column(key, String, primary_key=True),\n",
    "                    Column('Comments', String)) \n",
    "    for col in cols:\n",
    "        tmpcol = Column(col, cols[col]['coltypes'], nullable=cols[col]['nullable'])\n",
    "        interval.append_column(tmpcol)\n",
    "    \n",
    "\n",
    "# TODO: add some fuctions to activate/desactivate constraints 0\n",
    "# TODO: implement some triggers compatible (see dialects)???\n",
    "    \n",
    "def execute(eng, meta):\n",
    "    meta.create_all(eng)"
   ]
  },
  {
   "cell_type": "code",
   "execution_count": 3,
   "metadata": {
    "collapsed": false
   },
   "outputs": [
    {
     "name": "stdout",
     "output_type": "stream",
     "text": [
      "connection string: postgresql://postgres@localhost/Dhole\n",
      "echo True\n"
     ]
    }
   ],
   "source": [
    "\n",
    "#con_string= 'sqlite:///test2.sqlite'\n",
    "con_string= 'postgresql://postgres@localhost/Dhole'\n",
    "\n",
    "eng, meta = og_connect(con_string, overwrite = False)"
   ]
  },
  {
   "cell_type": "code",
   "execution_count": 4,
   "metadata": {
    "collapsed": false
   },
   "outputs": [],
   "source": [
    "og_references(eng, meta, table_name = 'assay_certificate', key = 'SampleID', cols={'Au':{'coltypes':Float, 'nullable': True}})\n",
    "og_references(eng, meta, table_name = 'rock_catalog', key = 'RockID', cols={'Description':{'coltypes':String, 'nullable': True}})\n",
    "og_add_interval(eng, meta, table_name = 'assay',cols={'SampleID':{'coltypes':String, \n",
    "                                                                  'nullable': False,\n",
    "                                                                  'foreignkey':{'column':'assay_certificate.SampleID',\n",
    "                                                                                'ondelete':'RESTRICT',\n",
    "                                                                                'onupdate':'CASCADE'}}})\n",
    "og_add_interval(eng, meta, table_name = 'litho',cols={'RockID':{'coltypes':String, \n",
    "                                                                'nullable': True,\n",
    "                                                                'foreignkey':{'column':'rock_catalog.RockID',\n",
    "                                                                                'ondelete':'RESTRICT',\n",
    "                                                                                'onupdate':'CASCADE'}}})"
   ]
  },
  {
   "cell_type": "code",
   "execution_count": 5,
   "metadata": {
    "collapsed": false
   },
   "outputs": [
    {
     "name": "stdout",
     "output_type": "stream",
     "text": [
      "2017-05-12 00:43:14,982 INFO sqlalchemy.engine.base.Engine select version()\n",
      "2017-05-12 00:43:14,983 INFO sqlalchemy.engine.base.Engine {}\n",
      "2017-05-12 00:43:14,986 INFO sqlalchemy.engine.base.Engine select current_schema()\n",
      "2017-05-12 00:43:14,986 INFO sqlalchemy.engine.base.Engine {}\n",
      "2017-05-12 00:43:14,989 INFO sqlalchemy.engine.base.Engine SELECT CAST('test plain returns' AS VARCHAR(60)) AS anon_1\n",
      "2017-05-12 00:43:14,990 INFO sqlalchemy.engine.base.Engine {}\n",
      "2017-05-12 00:43:14,992 INFO sqlalchemy.engine.base.Engine SELECT CAST('test unicode returns' AS VARCHAR(60)) AS anon_1\n",
      "2017-05-12 00:43:14,993 INFO sqlalchemy.engine.base.Engine {}\n",
      "2017-05-12 00:43:14,993 INFO sqlalchemy.engine.base.Engine show standard_conforming_strings\n",
      "2017-05-12 00:43:14,994 INFO sqlalchemy.engine.base.Engine {}\n",
      "2017-05-12 00:43:14,997 INFO sqlalchemy.engine.base.Engine select relname from pg_class c join pg_namespace n on n.oid=c.relnamespace where pg_catalog.pg_table_is_visible(c.oid) and relname=%(name)s\n",
      "2017-05-12 00:43:14,997 INFO sqlalchemy.engine.base.Engine {'name': u'assay'}\n",
      "2017-05-12 00:43:15,002 INFO sqlalchemy.engine.base.Engine select relname from pg_class c join pg_namespace n on n.oid=c.relnamespace where pg_catalog.pg_table_is_visible(c.oid) and relname=%(name)s\n",
      "2017-05-12 00:43:15,003 INFO sqlalchemy.engine.base.Engine {'name': u'rock_catalog'}\n",
      "2017-05-12 00:43:15,005 INFO sqlalchemy.engine.base.Engine select relname from pg_class c join pg_namespace n on n.oid=c.relnamespace where pg_catalog.pg_table_is_visible(c.oid) and relname=%(name)s\n",
      "2017-05-12 00:43:15,006 INFO sqlalchemy.engine.base.Engine {'name': u'survey'}\n",
      "2017-05-12 00:43:15,007 INFO sqlalchemy.engine.base.Engine select relname from pg_class c join pg_namespace n on n.oid=c.relnamespace where pg_catalog.pg_table_is_visible(c.oid) and relname=%(name)s\n",
      "2017-05-12 00:43:15,009 INFO sqlalchemy.engine.base.Engine {'name': u'assay_certificate'}\n",
      "2017-05-12 00:43:15,010 INFO sqlalchemy.engine.base.Engine select relname from pg_class c join pg_namespace n on n.oid=c.relnamespace where pg_catalog.pg_table_is_visible(c.oid) and relname=%(name)s\n",
      "2017-05-12 00:43:15,010 INFO sqlalchemy.engine.base.Engine {'name': u'litho'}\n",
      "2017-05-12 00:43:15,013 INFO sqlalchemy.engine.base.Engine select relname from pg_class c join pg_namespace n on n.oid=c.relnamespace where pg_catalog.pg_table_is_visible(c.oid) and relname=%(name)s\n",
      "2017-05-12 00:43:15,013 INFO sqlalchemy.engine.base.Engine {'name': u'collar'}\n",
      "2017-05-12 00:43:15,016 INFO sqlalchemy.engine.base.Engine \n",
      "CREATE TABLE rock_catalog (\n",
      "\t\"RockID\" VARCHAR NOT NULL, \n",
      "\t\"Comments\" VARCHAR, \n",
      "\t\"Description\" VARCHAR, \n",
      "\tPRIMARY KEY (\"RockID\")\n",
      ")\n",
      "\n",
      "\n",
      "2017-05-12 00:43:15,017 INFO sqlalchemy.engine.base.Engine {}\n",
      "2017-05-12 00:43:15,086 INFO sqlalchemy.engine.base.Engine COMMIT\n",
      "2017-05-12 00:43:15,107 INFO sqlalchemy.engine.base.Engine \n",
      "CREATE TABLE assay_certificate (\n",
      "\t\"SampleID\" VARCHAR NOT NULL, \n",
      "\t\"Comments\" VARCHAR, \n",
      "\t\"Au\" FLOAT, \n",
      "\tPRIMARY KEY (\"SampleID\")\n",
      ")\n",
      "\n",
      "\n",
      "2017-05-12 00:43:15,108 INFO sqlalchemy.engine.base.Engine {}\n",
      "2017-05-12 00:43:15,197 INFO sqlalchemy.engine.base.Engine COMMIT\n",
      "2017-05-12 00:43:15,203 INFO sqlalchemy.engine.base.Engine \n",
      "CREATE TABLE collar (\n",
      "\t\"BHID\" VARCHAR NOT NULL, \n",
      "\txcollar FLOAT NOT NULL, \n",
      "\tycollar FLOAT NOT NULL, \n",
      "\tzcollar FLOAT NOT NULL, \n",
      "\t\"LENGTH\" FLOAT NOT NULL, \n",
      "\t\"Comments\" VARCHAR, \n",
      "\tPRIMARY KEY (\"BHID\")\n",
      ")\n",
      "\n",
      "\n",
      "2017-05-12 00:43:15,204 INFO sqlalchemy.engine.base.Engine {}\n",
      "2017-05-12 00:43:15,298 INFO sqlalchemy.engine.base.Engine COMMIT\n",
      "2017-05-12 00:43:15,313 INFO sqlalchemy.engine.base.Engine \n",
      "CREATE TABLE assay (\n",
      "\t\"BHID\" VARCHAR NOT NULL, \n",
      "\t\"FROM\" FLOAT NOT NULL, \n",
      "\t\"TO\" FLOAT NOT NULL, \n",
      "\t\"Comments\" VARCHAR, \n",
      "\t\"SampleID\" VARCHAR, \n",
      "\tPRIMARY KEY (\"BHID\", \"FROM\"), \n",
      "\tCONSTRAINT check_interv CHECK (\"TO\" > \"FROM\"), \n",
      "\tCONSTRAINT chk_bhid FOREIGN KEY(\"BHID\") REFERENCES collar (\"BHID\") ON DELETE CASCADE ON UPDATE CASCADE, \n",
      "\tFOREIGN KEY(\"SampleID\") REFERENCES assay_certificate (\"SampleID\") ON DELETE RESTRICT ON UPDATE CASCADE\n",
      ")\n",
      "\n",
      "\n",
      "2017-05-12 00:43:15,313 INFO sqlalchemy.engine.base.Engine {}\n",
      "2017-05-12 00:43:15,421 INFO sqlalchemy.engine.base.Engine COMMIT\n",
      "2017-05-12 00:43:15,426 INFO sqlalchemy.engine.base.Engine \n",
      "CREATE TABLE survey (\n",
      "\t\"BHID\" VARCHAR NOT NULL, \n",
      "\tat FLOAT NOT NULL, \n",
      "\taz FLOAT NOT NULL, \n",
      "\tdip FLOAT NOT NULL, \n",
      "\t\"Comments\" VARCHAR, \n",
      "\tPRIMARY KEY (\"BHID\", at), \n",
      "\tCONSTRAINT chk_bhid FOREIGN KEY(\"BHID\") REFERENCES collar (\"BHID\") ON DELETE CASCADE ON UPDATE CASCADE\n",
      ")\n",
      "\n",
      "\n",
      "2017-05-12 00:43:15,427 INFO sqlalchemy.engine.base.Engine {}\n",
      "2017-05-12 00:43:15,499 INFO sqlalchemy.engine.base.Engine COMMIT\n",
      "2017-05-12 00:43:15,519 INFO sqlalchemy.engine.base.Engine \n",
      "CREATE TABLE litho (\n",
      "\t\"BHID\" VARCHAR NOT NULL, \n",
      "\t\"FROM\" FLOAT NOT NULL, \n",
      "\t\"TO\" FLOAT NOT NULL, \n",
      "\t\"Comments\" VARCHAR, \n",
      "\t\"RockID\" VARCHAR, \n",
      "\tPRIMARY KEY (\"BHID\", \"FROM\"), \n",
      "\tCONSTRAINT check_interv CHECK (\"TO\" > \"FROM\"), \n",
      "\tCONSTRAINT chk_bhid FOREIGN KEY(\"BHID\") REFERENCES collar (\"BHID\") ON DELETE CASCADE ON UPDATE CASCADE, \n",
      "\tFOREIGN KEY(\"RockID\") REFERENCES rock_catalog (\"RockID\") ON DELETE RESTRICT ON UPDATE CASCADE\n",
      ")\n",
      "\n",
      "\n",
      "2017-05-12 00:43:15,519 INFO sqlalchemy.engine.base.Engine {}\n",
      "2017-05-12 00:43:15,598 INFO sqlalchemy.engine.base.Engine COMMIT\n"
     ]
    }
   ],
   "source": [
    "execute(eng, meta)"
   ]
  },
  {
   "cell_type": "code",
   "execution_count": null,
   "metadata": {
    "collapsed": true
   },
   "outputs": [],
   "source": []
  }
 ],
 "metadata": {
  "anaconda-cloud": {},
  "kernelspec": {
   "display_name": "Python [conda root]",
   "language": "python",
   "name": "conda-root-py"
  },
  "language_info": {
   "codemirror_mode": {
    "name": "ipython",
    "version": 2
   },
   "file_extension": ".py",
   "mimetype": "text/x-python",
   "name": "python",
   "nbconvert_exporter": "python",
   "pygments_lexer": "ipython2",
   "version": "2.7.12"
  }
 },
 "nbformat": 4,
 "nbformat_minor": 1
}
