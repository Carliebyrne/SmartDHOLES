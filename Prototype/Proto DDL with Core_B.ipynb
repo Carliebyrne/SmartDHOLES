{
 "cells": [
  {
   "cell_type": "markdown",
   "metadata": {},
   "source": [
    "# Smart Drilhole: Prototype DDL with Core\n",
    "\n",
    "In this section we create a drillhole database using SQLAlchemy. The idea is to reuse the function to create the same database in SQLITE and MySQL. \n",
    "\n",
    "Restrictions: \n",
    "- use ``PRAGMA foreign_keys = ON;`` in SQLITE\n",
    "- use ``PRAGMA case_sensitive_like = True;`` in SQLITE\n",
    "- use InnoDB in MySQL"
   ]
  },
  {
   "cell_type": "code",
   "execution_count": 1,
   "metadata": {
    "collapsed": false
   },
   "outputs": [
    {
     "data": {
      "text/plain": [
       "'1.1.9'"
      ]
     },
     "execution_count": 1,
     "metadata": {},
     "output_type": "execute_result"
    }
   ],
   "source": [
    "import sqlalchemy\n",
    "sqlalchemy.__version__ "
   ]
  },
  {
   "cell_type": "code",
   "execution_count": 2,
   "metadata": {
    "collapsed": false
   },
   "outputs": [],
   "source": [
    "import sqlalchemy\n",
    "\n",
    "\n",
    "from sqlalchemy import (create_engine,\n",
    "                        Table,\n",
    "                        Column,\n",
    "                        Float,\n",
    "                        String,\n",
    "                        MetaData,\n",
    "                        ForeignKey,\n",
    "                        CheckConstraint)\n",
    "\n",
    "\n",
    "\n",
    "def og_connect(con_string='sqlite:///test2.sqlite', echo=False):\n",
    "    \"\"\"og_connect(con_string='sqlite:///test2.sqlite', echo=False)\n",
    "    \n",
    "    Create a connection to a database and returns connection and metadata\n",
    "    \n",
    "    Parameters\n",
    "    ----------\n",
    "    con_string : str (default 'sqlite:///test2.sqlite')\n",
    "                 connection string to a database, e.g.\n",
    "                'sqlite:///test2.sqlite'\n",
    "                 'postgresql://postgres@localhost/Dhole'\n",
    "                 \n",
    "                see http://docs.sqlalchemy.org/en/latest/core/engines.html#database-urls for more info\n",
    "    \n",
    "    echo :      bool (default False)\n",
    "                print database server log output\n",
    "    \n",
    "                 \n",
    "    Returns\n",
    "    -------\n",
    "    eng : sqlalchemy engine  \n",
    "        active connection to a database\n",
    "    meta : sqlalchemy metadata\n",
    "        container object that keeps together many different features of a database\n",
    "    \n",
    "    \n",
    "    Example\n",
    "    -------\n",
    "    >>> con_string= 'postgresql://postgres@localhost/Dhole'\n",
    "    >>> eng, meta = og_connect(con_string, echo=False)\n",
    "    \n",
    "    \"\"\"\n",
    "\n",
    "\n",
    "    #print 'connection string:', con_string\n",
    "    #print 'echo', echo\n",
    "\n",
    "    # get database type\n",
    "    dbtype = con_string[0:5]\n",
    "    if dbtype == 'sqlit':\n",
    "\n",
    "        # Do a row connection and update some pragma\n",
    "        eng = create_engine(con_string, echo=echo)\n",
    "        with eng.connect() as con:\n",
    "            print con.execute('PRAGMA foreign_keys = ON;')\n",
    "            print con.execute('PRAGMA case_sensitive_like = True;')\n",
    "\n",
    "    if dbtype == 'postg':\n",
    "        eng = create_engine(con_string, echo=echo)\n",
    "\n",
    "    if dbtype == 'sqlite':\n",
    "        pass\n",
    "        \n",
    "    # create collar table\n",
    "    meta = MetaData()\n",
    "    meta.reflect(bind=eng)\n",
    "    \n",
    "    return eng, meta\n",
    "    \n",
    "    \n",
    "    \n",
    "def og_create_dhdef(eng, meta, dbsuffix=\"\", collar_cols={}, survey_cols={}):\n",
    "    \"\"\"og_create_dhdef(eng, meta, dbsuffix=\"\", collar_cols={}, survey_cols={})\n",
    "    \n",
    "    Create drillhole definition tables in the metadata, collar and survey.\n",
    "    If you have more than one of drillhole use ``dbsuffix``, \n",
    "    e.g. ``dbsuffix= Historic`` will create tables \n",
    "    Historic_collar and Historic_survey\n",
    "    \n",
    "    Default culumns BHID, xcollar, ycollar, zcollar, LENGTH, and Comments\n",
    "    will be automatically created. To add extra columns use ``collar_cols`` and \n",
    "    ``survey_cols``. Thise are dictionaries with column definition. Two options \n",
    "    are available: \n",
    "    \n",
    "    a) To add a new column without external reference\n",
    "        \n",
    "        {Column1_name:{'coltypes':sqlalchemy.Data_Type, 'nullable': True/False}, \n",
    "         Column2_name:{'coltypes':sqlalchemy.Data_Type, 'nullable': True/False},\n",
    "         ...\n",
    "         ColumnN_name:{'coltypes':sqlalchemy.Data_Type, 'nullable': True/False}}\n",
    "        \n",
    "    b) To add a new column with external reference\n",
    "    \n",
    "        {Column1_name:{'coltypes':String, \n",
    "                       'nullable': True,\n",
    "                       'foreignkey':{'column':reference_table.reference_column,\n",
    "                                     'ondelete':'RESTRICT',\n",
    "                                     'onupdate':'CASCADE'}}, \n",
    "        ...}    \n",
    "    \n",
    "    \n",
    "    \n",
    "    Parameters\n",
    "    ----------\n",
    "    eng : sqlalchemy engine  \n",
    "            active connection to a database\n",
    "            \n",
    "    meta : sqlalchemy metadata\n",
    "            container object that keeps together many different features of a database\n",
    "    \n",
    "    dbsuffix : str (default \"\")\n",
    "            this suffix will be added to each table_name\n",
    "    \n",
    "    collar_cols : dict (default {})\n",
    "            definition of new non default columns in table collar\n",
    "            \n",
    "    survey_cols : dict (default {})\n",
    "            definition of new non default columns in table survey\n",
    "    \n",
    "    Example\n",
    "    -------\n",
    "    >>> og_create_dhdef(eng, meta, dbsuffix=\"Historic\", \n",
    "                      collar_cols={'Company':{'coltypes':String, 'nullable': True}},\n",
    "                      survey_cols={'Method' :{'coltypes':String, 'nullable': True}})\n",
    "    \n",
    "    \"\"\"\n",
    "\n",
    "    \n",
    "    assert dbsuffix+'_collar' not in eng.table_names(), 'Collar table: {} already in database'.format(dbsuffix+'_collar')\n",
    "    assert dbsuffix+'_survey' not in eng.table_names(), 'Surbey table: {} already in database'.format(dbsuffix+'_survey')\n",
    "    \n",
    "    collar = Table(dbsuffix+'_collar', meta,\n",
    "                   Column('BHID', String, primary_key=True),\n",
    "                   Column('xcollar', Float, nullable=False),\n",
    "                   Column('ycollar', Float, nullable=False),\n",
    "                   Column('zcollar', Float, nullable=False),\n",
    "                   Column('LENGTH', Float, nullable=False),\n",
    "                   Column('Comments', String))\n",
    "\n",
    "    survey = Table(dbsuffix+'_survey', meta,\n",
    "                   Column('BHID', None,\n",
    "                          ForeignKey(column=dbsuffix+'_collar.BHID',\n",
    "                                     ondelete='CASCADE',\n",
    "                                     onupdate='CASCADE',\n",
    "                                     name='chk_bhid'),\n",
    "                          primary_key=True),\n",
    "                   Column('at', Float, nullable=False, primary_key=True),\n",
    "                   Column('az', Float, nullable=False),\n",
    "                   Column('dip', Float, nullable=False),\n",
    "                   Column('Comments', String))\n",
    "    \n",
    "    \n",
    "    for ccol in collar_cols:\n",
    "        if 'foreignkey' in collar_cols[ccol]:\n",
    "            fk = ForeignKey(column=collar_cols[ccol]['foreignkey']['column'],\n",
    "                            ondelete=collar_cols[ccol]['foreignkey']['ondelete'],\n",
    "                            onupdate=collar_cols[ccol]['foreignkey']['onupdate'])\n",
    "            tmpcol = Column(ccol, None, fk)\n",
    "        else:\n",
    "            tmpcol = Column(ccol, collar_cols[ccol]['coltypes'], nullable=collar_cols[ccol]['nullable'])\n",
    "\n",
    "        collar.append_column(tmpcol)\n",
    "    \n",
    "\n",
    "    for scol in survey_cols:\n",
    "        if 'foreignkey' in survey_cols[scol]:\n",
    "            fk = ForeignKey(column=survey_cols[scol]['foreignkey']['column'],\n",
    "                            ondelete=survey_cols[scol]['foreignkey']['ondelete'],\n",
    "                            onupdate=survey_cols[scol]['foreignkey']['onupdate'])\n",
    "            tmpcol = Column(scol, None, fk)\n",
    "        else:\n",
    "            tmpcol = Column(scol, survey_cols[scol]['coltypes'], nullable=survey_cols[scol]['nullable'])\n",
    "\n",
    "        survey.append_column(tmpcol)    \n",
    "    \n",
    "\n",
    "def og_add_interval(eng, meta, table_name, cols={}, dbsuffix=\"\"):\n",
    "    \"\"\"og_add_interval(eng, meta, table_name, cols={}, dbsuffix=\"\")\n",
    "    \n",
    "    Create drillhole interval tables in the metadata, eg. assay or log.\n",
    "    You may need the same ``dbsuffix`` used to create the table definitions.\n",
    "    \n",
    "    Default culumns BHID, FROM, TO, and Comments\n",
    "    will be automatically created. To add extra columns use ``cols``, \n",
    "    a dictionary with column definition. Two options are available: \n",
    "    \n",
    "    a) To add a new column without external reference\n",
    "        \n",
    "        {Column1_name:{'coltypes':sqlalchemy.Data_Type, 'nullable': True/False}, \n",
    "         Column2_name:{'coltypes':sqlalchemy.Data_Type, 'nullable': True/False},\n",
    "         ...\n",
    "         ColumnN_name:{'coltypes':sqlalchemy.Data_Type, 'nullable': True/False}}\n",
    "        \n",
    "    b) To add a new column with external reference\n",
    "    \n",
    "        {Column1_name:{'coltypes':String, \n",
    "                       'nullable': True,\n",
    "                       'foreignkey':{'column':reference_table.reference_column,\n",
    "                                     'ondelete':'RESTRICT',\n",
    "                                     'onupdate':'CASCADE'}}, \n",
    "        ...}    \n",
    "    \n",
    "        \n",
    "    Parameters\n",
    "    ----------\n",
    "    eng : sqlalchemy engine  \n",
    "            active connection to a database\n",
    "            \n",
    "    meta : sqlalchemy metadata\n",
    "            container object that keeps together many different features of a database\n",
    "    \n",
    "    table_name : str\n",
    "            table name\n",
    "    \n",
    "    cols : dict (default {})\n",
    "            definition of new non default columns\n",
    "             \n",
    "    Example\n",
    "    -------\n",
    "    >>> og_add_interval(eng, meta, \n",
    "                        table_name = 'assay', \n",
    "                        dbsuffix=\"Historic\",\n",
    "                        cols={'SampleID':{'coltypes':String, \n",
    "                                          'nullable': False,\n",
    "                                          'foreignkey':{'column':'assay_certificate.SampleID',\n",
    "                                                        'ondelete':'RESTRICT',\n",
    "                                                        'onupdate':'CASCADE'}},\n",
    "                             'Au_visual':{'coltypes':Float, 'nullable': True}})\n",
    "    \n",
    "    \"\"\"\n",
    "    # create interval table\n",
    "    interval = Table(dbsuffix+'_'+table_name+'_int', meta,\n",
    "                     Column('BHID', None,\n",
    "                            ForeignKey(column=dbsuffix+'_collar.BHID',\n",
    "                                       ondelete='CASCADE',\n",
    "                                       onupdate='CASCADE',\n",
    "                                       name='chk_bhid'),\n",
    "                            primary_key=True),\n",
    "                     Column('FROM', Float, nullable=False, primary_key=True),\n",
    "                     Column('TO', Float, nullable=False),\n",
    "                     Column('Comments', String),\n",
    "                     CheckConstraint('\"TO\" > \"FROM\"', name='check_interv'))\n",
    "\n",
    "    for col in cols:\n",
    "        if 'foreignkey' in cols[col]:\n",
    "            fk = ForeignKey(column=cols[col]['foreignkey']['column'],\n",
    "                            ondelete=cols[col]['foreignkey']['ondelete'],\n",
    "                            onupdate=cols[col]['foreignkey']['onupdate'])\n",
    "            tmpcol = Column(col, None, fk)\n",
    "        else:\n",
    "            tmpcol = Column(col, cols[col]['coltypes'], nullable=cols[col]['nullable'])\n",
    "\n",
    "        interval.append_column(tmpcol)\n",
    "\n",
    "\n",
    "def og_references(eng, meta, table_name, key='SampleID', cols={}):\n",
    "    \"\"\"og_references(eng, meta, table_name, key='SampleID', cols={})\n",
    "    \n",
    "    Create reference tables in the metadata, eg. assay certificates or Lithology catalog.\n",
    "    \n",
    "    Reference tables will not use external references and columns may be formatted as:\n",
    "            \n",
    "        {Column1_name:{'coltypes':sqlalchemy.Data_Type, 'nullable': True/False}, \n",
    "         ...}\n",
    "           \n",
    "        \n",
    "    Parameters\n",
    "    ----------\n",
    "    eng : sqlalchemy engine  \n",
    "            active connection to a database\n",
    "            \n",
    "    meta : sqlalchemy metadata\n",
    "            container object that keeps together many different features of a database\n",
    "    \n",
    "    table_name : str\n",
    "            table name\n",
    "    \n",
    "    key : str (Default 'SampleID')\n",
    "            name of the reference columns, it will be used as table key and \n",
    "            will not allow duplicates\n",
    "    \n",
    "    cols : dict (default {})\n",
    "            definition of new non-default columns\n",
    "             \n",
    "    Example\n",
    "    -------\n",
    "    >>> og_references(eng, meta, table_name = 'assay_certificate', \n",
    "                      key = 'SampleID', cols={'Au':{'coltypes':Float, 'nullable': True}})\n",
    "    >>> og_references(eng, meta, table_name = 'rock_catalog', \n",
    "                      key = 'RockID', cols={'Description':{'coltypes':String, 'nullable': True}})\n",
    "\n",
    "    \n",
    "    \"\"\"\n",
    "    \n",
    "    # create interval table\n",
    "    interval = Table(table_name, meta,\n",
    "                     Column(key, String, primary_key=True),\n",
    "                     Column('Comments', String))\n",
    "    for col in cols:\n",
    "        tmpcol = Column(col, cols[col]['coltypes'], nullable=cols[col]['nullable'])\n",
    "        interval.append_column(tmpcol)\n",
    "\n",
    "\n",
    "# TODO: add some functions to activate/disactivate constraints\n",
    "# TODO: implement some triggers compatible (see dialects)???\n",
    "\n",
    "def execute(eng, meta):\n",
    "    \"\"\"execute(eng, meta)\n",
    "    \n",
    "    Create all tables stored in the metadata ```meta``` in the database connected to ``eng``. \n",
    "    \n",
    "    Parameters\n",
    "    ----------\n",
    "    eng : sqlalchemy engine  \n",
    "            active connection to a database\n",
    "            \n",
    "    meta : sqlalchemy metadata\n",
    "            container object that keeps together many different features of a database\n",
    "    \n",
    "    \"\"\"    \n",
    "    meta.create_all(eng)\n",
    "\n",
    "\n",
    "\n"
   ]
  },
  {
   "cell_type": "code",
   "execution_count": 3,
   "metadata": {
    "collapsed": false
   },
   "outputs": [],
   "source": [
    "#create a connection\n",
    "#con_string= 'sqlite:///test2.sqlite'\n",
    "con_string= 'postgresql://postgres@localhost/Dhole'\n",
    "\n",
    "eng, meta = og_connect(con_string, echo=False)"
   ]
  },
  {
   "cell_type": "code",
   "execution_count": 4,
   "metadata": {
    "collapsed": false
   },
   "outputs": [
    {
     "data": {
      "text/plain": [
       "immutabledict({u'Historic_collar': Table('Historic_collar', MetaData(bind=None), Column('BHID', VARCHAR(), table=<Historic_collar>, primary_key=True, nullable=False), Column('xcollar', DOUBLE_PRECISION(precision=53), table=<Historic_collar>, nullable=False), Column('ycollar', DOUBLE_PRECISION(precision=53), table=<Historic_collar>, nullable=False), Column('zcollar', DOUBLE_PRECISION(precision=53), table=<Historic_collar>, nullable=False), Column('LENGTH', DOUBLE_PRECISION(precision=53), table=<Historic_collar>, nullable=False), Column('Comments', VARCHAR(), table=<Historic_collar>), Column('Company', VARCHAR(), table=<Historic_collar>), schema=None), u'Historic_assay_int': Table('Historic_assay_int', MetaData(bind=None), Column('BHID', VARCHAR(), ForeignKey(u'Historic_collar.BHID'), table=<Historic_assay_int>, primary_key=True, nullable=False), Column('FROM', DOUBLE_PRECISION(precision=53), table=<Historic_assay_int>, primary_key=True, nullable=False), Column('TO', DOUBLE_PRECISION(precision=53), table=<Historic_assay_int>, nullable=False), Column('Comments', VARCHAR(), table=<Historic_assay_int>), Column('Au_visual', DOUBLE_PRECISION(precision=53), table=<Historic_assay_int>), Column('SampleID', VARCHAR(), ForeignKey(u'assay_certificate.SampleID'), table=<Historic_assay_int>), schema=None), u'Historic_litho_int': Table('Historic_litho_int', MetaData(bind=None), Column('BHID', VARCHAR(), ForeignKey(u'Historic_collar.BHID'), table=<Historic_litho_int>, primary_key=True, nullable=False), Column('FROM', DOUBLE_PRECISION(precision=53), table=<Historic_litho_int>, primary_key=True, nullable=False), Column('TO', DOUBLE_PRECISION(precision=53), table=<Historic_litho_int>, nullable=False), Column('Comments', VARCHAR(), table=<Historic_litho_int>), Column('RockID', VARCHAR(), ForeignKey(u'rock_catalog.RockID'), table=<Historic_litho_int>), schema=None), u'rock_catalog': Table('rock_catalog', MetaData(bind=None), Column('RockID', VARCHAR(), table=<rock_catalog>, primary_key=True, nullable=False), Column('Comments', VARCHAR(), table=<rock_catalog>), Column('Description', VARCHAR(), table=<rock_catalog>), schema=None), u'assay_certificate': Table('assay_certificate', MetaData(bind=None), Column('SampleID', VARCHAR(), table=<assay_certificate>, primary_key=True, nullable=False), Column('Comments', VARCHAR(), table=<assay_certificate>), Column('Au', DOUBLE_PRECISION(precision=53), table=<assay_certificate>), schema=None), u'Historic_survey': Table('Historic_survey', MetaData(bind=None), Column('BHID', VARCHAR(), ForeignKey(u'Historic_collar.BHID'), table=<Historic_survey>, primary_key=True, nullable=False), Column('at', DOUBLE_PRECISION(precision=53), table=<Historic_survey>, primary_key=True, nullable=False), Column('az', DOUBLE_PRECISION(precision=53), table=<Historic_survey>, nullable=False), Column('dip', DOUBLE_PRECISION(precision=53), table=<Historic_survey>, nullable=False), Column('Comments', VARCHAR(), table=<Historic_survey>), Column('Method', VARCHAR(), table=<Historic_survey>), schema=None)})"
      ]
     },
     "execution_count": 4,
     "metadata": {},
     "output_type": "execute_result"
    }
   ],
   "source": [
    "meta.tables"
   ]
  },
  {
   "cell_type": "code",
   "execution_count": 8,
   "metadata": {
    "collapsed": false
   },
   "outputs": [
    {
     "name": "stdout",
     "output_type": "stream",
     "text": [
      "Collar table: Historic_collar already in database\n"
     ]
    }
   ],
   "source": [
    "#add drillhole definition tables (collar and survey)\n",
    "\n",
    "import sys\n",
    "\n",
    "try: \n",
    "    og_create_dhdef(eng, meta, dbsuffix=\"Historic\", \n",
    "                    collar_cols={'Company':{'coltypes':String, 'nullable': True}},\n",
    "                    survey_cols={'Method':{'coltypes':String, 'nullable': True}})\n",
    "except: \n",
    "    print sys.exc_info()[1]"
   ]
  },
  {
   "cell_type": "code",
   "execution_count": 16,
   "metadata": {
    "collapsed": false
   },
   "outputs": [
    {
     "data": {
      "text/plain": [
       "['Historic_collar', 'Historic_survey']"
      ]
     },
     "execution_count": 16,
     "metadata": {},
     "output_type": "execute_result"
    }
   ],
   "source": [
    "meta.tables.keys()"
   ]
  },
  {
   "cell_type": "code",
   "execution_count": 17,
   "metadata": {
    "collapsed": false
   },
   "outputs": [],
   "source": [
    "# add reference table\n",
    "og_references(eng, meta, table_name = 'assay_certificate', key = 'SampleID', cols={'Au':{'coltypes':Float, 'nullable': True}})\n",
    "og_references(eng, meta, table_name = 'rock_catalog', key = 'RockID', cols={'Description':{'coltypes':String, 'nullable': True}})\n",
    "\n",
    "# add interval tables\n",
    "og_add_interval(eng, meta, \n",
    "                table_name = 'assay', \n",
    "                dbsuffix=\"Historic\",\n",
    "                cols={'SampleID':{'coltypes':String, \n",
    "                                  'nullable': False,\n",
    "                                  'foreignkey':{'column':'assay_certificate.SampleID',\n",
    "                                                'ondelete':'RESTRICT',\n",
    "                                                'onupdate':'CASCADE'}},\n",
    "                     'Au_visual':{'coltypes':Float, 'nullable': True}})\n",
    "og_add_interval(eng, meta, \n",
    "                table_name = 'litho',\n",
    "                dbsuffix=\"Historic\",\n",
    "                cols={'RockID':{'coltypes':String, \n",
    "                                'nullable': True,\n",
    "                                'foreignkey':{'column':'rock_catalog.RockID',\n",
    "                                                'ondelete':'RESTRICT',\n",
    "                                                'onupdate':'CASCADE'}}})"
   ]
  },
  {
   "cell_type": "code",
   "execution_count": 18,
   "metadata": {
    "collapsed": false
   },
   "outputs": [
    {
     "data": {
      "text/plain": [
       "['Historic_collar',\n",
       " 'Historic_assay_int',\n",
       " 'Historic_litho_int',\n",
       " 'rock_catalog',\n",
       " 'assay_certificate',\n",
       " 'Historic_survey']"
      ]
     },
     "execution_count": 18,
     "metadata": {},
     "output_type": "execute_result"
    }
   ],
   "source": [
    "meta.tables.keys()"
   ]
  },
  {
   "cell_type": "code",
   "execution_count": 19,
   "metadata": {
    "collapsed": false
   },
   "outputs": [],
   "source": [
    "execute(eng, meta)"
   ]
  },
  {
   "cell_type": "code",
   "execution_count": 20,
   "metadata": {
    "collapsed": false
   },
   "outputs": [],
   "source": [
    "a=meta.tables['rock_catalog']"
   ]
  },
  {
   "cell_type": "code",
   "execution_count": 21,
   "metadata": {
    "collapsed": false
   },
   "outputs": [
    {
     "data": {
      "text/plain": [
       "Table('rock_catalog', MetaData(bind=None), Column('RockID', String(), table=<rock_catalog>, primary_key=True, nullable=False), Column('Comments', String(), table=<rock_catalog>), Column('Description', String(), table=<rock_catalog>), schema=None)"
      ]
     },
     "execution_count": 21,
     "metadata": {},
     "output_type": "execute_result"
    }
   ],
   "source": [
    "a"
   ]
  },
  {
   "cell_type": "code",
   "execution_count": 22,
   "metadata": {
    "collapsed": false
   },
   "outputs": [
    {
     "name": "stdout",
     "output_type": "stream",
     "text": [
      "RockID\n",
      "Comments\n",
      "Description\n"
     ]
    }
   ],
   "source": [
    "for i in a.columns:\n",
    "    print i.key"
   ]
  },
  {
   "cell_type": "code",
   "execution_count": null,
   "metadata": {
    "collapsed": true
   },
   "outputs": [],
   "source": []
  }
 ],
 "metadata": {
  "anaconda-cloud": {},
  "kernelspec": {
   "display_name": "Python [conda root]",
   "language": "python",
   "name": "conda-root-py"
  },
  "language_info": {
   "codemirror_mode": {
    "name": "ipython",
    "version": 2
   },
   "file_extension": ".py",
   "mimetype": "text/x-python",
   "name": "python",
   "nbconvert_exporter": "python",
   "pygments_lexer": "ipython2",
   "version": "2.7.12"
  }
 },
 "nbformat": 4,
 "nbformat_minor": 1
}
